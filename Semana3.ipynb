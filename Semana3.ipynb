{
  "nbformat": 4,
  "nbformat_minor": 0,
  "metadata": {
    "colab": {
      "provenance": []
    },
    "kernelspec": {
      "name": "python3",
      "display_name": "Python 3"
    },
    "language_info": {
      "name": "python"
    }
  },
  "cells": [
    {
      "cell_type": "code",
      "source": [
        "import numpy as np\n",
        "import cv2 as cv\n",
        "from google.colab.patches import cv2_imshow\n",
        "\n",
        "# Funciones\n",
        "def draw(vertices, edges, im):\n",
        "    \"\"\"Dibuja objeto definido por vertices y bordes\"\"\"\n",
        "    for e in edges:\n",
        "        cv.line(im, tuple(vertices[e[0]][:2].astype(int)), tuple(vertices[e[1]][:2].astype(int)), (255, 0, 15), 2)\n",
        "    for v in vertices:\n",
        "        cv.circle(im, tuple(v[:2].astype(int)), 3, (255, 0, 255), -1)\n",
        "\n",
        "def rotate_x(angle):\n",
        "    \"\"\"Matriz de rotación en el eje X\"\"\"\n",
        "    angle_rad = np.radians(angle)\n",
        "    return np.array([[1, 0, 0, 0],\n",
        "                     [0, np.cos(angle_rad), -np.sin(angle_rad), 0],\n",
        "                     [0, np.sin(angle_rad), np.cos(angle_rad), 0],\n",
        "                     [0, 0, 0, 1]])\n",
        "\n",
        "def rotate_y(angle):\n",
        "    \"\"\"Matriz de rotación en el eje Y\"\"\"\n",
        "    angle_rad = np.radians(angle)\n",
        "    return np.array([[np.cos(angle_rad), 0, np.sin(angle_rad), 0],\n",
        "                     [0, 1, 0, 0],\n",
        "                     [-np.sin(angle_rad), 0, np.cos(angle_rad), 0],\n",
        "                     [0, 0, 0, 1]])\n",
        "\n",
        "def rotate_z(angle):\n",
        "    \"\"\"Matriz de rotación en el eje Z\"\"\"\n",
        "    angle_rad = np.radians(angle)\n",
        "    return np.array([[np.cos(angle_rad), -np.sin(angle_rad), 0, 0],\n",
        "                     [np.sin(angle_rad), np.cos(angle_rad), 0, 0],\n",
        "                     [0, 0, 1, 0],\n",
        "                     [0, 0, 0, 1]])\n",
        "\n",
        "def project3D(vertices, d=500):\n",
        "    \"\"\"Aplica una proyección 3D\"\"\"\n",
        "    projection_matrix = np.array([[1, 0, 0, 0],\n",
        "                                  [0, 1, 0, 0],\n",
        "                                  [0, 0, 1, -1/d]])\n",
        "\n",
        "    return np.dot(vertices, projection_matrix.T)\n",
        "\n",
        "def translate(vertices, dx, dy):\n",
        "    # Implementa la función de translación\n",
        "    translation_matrix = np.array([[1, 0, 0, dx], [0, 1, 0, dy], [0, 0, 1, 0], [0, 0, 0, 1]])  # Agregar columna de ceros\n",
        "    v = translation_matrix @ vertices.T\n",
        "    return v.T\n",
        "\n",
        "\n",
        "# Cubo definido en su sistema coordenado\n",
        "v = np.array([[0, 100, 100, 1], [0, 100, 0, 1], [100, 100, 0, 1], [100, 0, 0, 1],\n",
        "              [100, 0, 100, 1], [0, 0, 100, 1], [0, 0, 0, 1], [100, 100, 100, 1]])\n",
        "edges = [(0, 1), (1, 2), (2, 3), (3, 4), (4, 5), (5, 0), (5, 6), (1, 6), (6, 3), (7, 4), (0, 7), (7, 2)]\n",
        "\n",
        "# Rotar en los ejes X, Y y Z\n",
        "v = np.dot(v, rotate_x(angle=30).T)\n",
        "v = np.dot(v, rotate_y(angle=80).T)\n",
        "v = np.dot(v, rotate_z(angle=20).T)\n",
        "\n",
        "# Trasladar el cubo a la parte inferior derecha\n",
        "v = translate(v, dx=250, dy=250)\n",
        "\n",
        "# Parámetros de la cámara\n",
        "d = 500  # Distancia de la cámara al plano de proyección\n",
        "\n",
        "# Proyectar los vértices en 3D\n",
        "v_projected = project3D(v, d=d)\n",
        "\n",
        "# Dibujar y mostrar\n",
        "im = np.zeros((500, 500, 3), np.uint8)\n",
        "draw(v_projected, edges, im)\n",
        "cv2_imshow(im)"
      ],
      "metadata": {
        "colab": {
          "base_uri": "https://localhost:8080/",
          "height": 517
        },
        "id": "4YoAFrGggExW",
        "outputId": "fe8530de-ad06-463f-e800-462ff07ef77a"
      },
      "execution_count": null,
      "outputs": [
        {
          "output_type": "display_data",
          "data": {
            "text/plain": [
              "<PIL.Image.Image image mode=RGB size=500x500>"
            ],
            "image/png": "[encoded data removed]"
          },
          "metadata": {}
        }
      ]
    }
  ]
}